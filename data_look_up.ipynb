{
 "cells": [
  {
   "cell_type": "code",
   "execution_count": 1,
   "metadata": {
    "collapsed": true
   },
   "outputs": [],
   "source": [
    "import pandas as pd\n",
    "import numpy as np\n",
    "import matplotlib.pyplot as plt"
   ]
  },
  {
   "cell_type": "code",
   "execution_count": 2,
   "metadata": {
    "collapsed": true
   },
   "outputs": [],
   "source": [
    "df = pd.read_csv('train.csv')"
   ]
  },
  {
   "cell_type": "code",
   "execution_count": 3,
   "metadata": {
    "collapsed": false
   },
   "outputs": [
    {
     "name": "stdout",
     "output_type": "stream",
     "text": [
      "Number of row 404290, number of col 6\n",
      "Total number of Question        808580 \n",
      "Total number of Unique Question 537933\n"
     ]
    }
   ],
   "source": [
    "print('Number of row {}, number of col {}'.format(*df.shape))\n",
    "question_id1 = df['qid1'].values\n",
    "question_id2 = df['qid2'].values\n",
    "question_id = pd.DataFrame(np.concatenate((question_id1,question_id2),axis=0),columns = ['id'])\n",
    "print('Total number of Question        {} '.format(len(question_id)))\n",
    "print('Total number of Unique Question {}'.format(len(set(np.asarray(question_id['id'])))))"
   ]
  },
  {
   "cell_type": "code",
   "execution_count": 13,
   "metadata": {
    "collapsed": false
   },
   "outputs": [
    {
     "name": "stdout",
     "output_type": "stream",
     "text": [
      "2559\n",
      "157\n"
     ]
    }
   ],
   "source": [
    "num_of_dup_id = question_id['id'].value_counts()\n",
    "max_five_dup = num_of_dup_id.iloc[0:5]\n",
    "max_five_id = {}\n",
    "for index,value in enumerate(max_five_dup):\n",
    "    id_index = num_of_dup_id[num_of_dup_id == value].index[0]\n",
    "    \n",
    "\n",
    "print(max_five_id[0])\n",
    "print(num_of_dup_id[max_five_id[0]])"
   ]
  },
  {
   "cell_type": "code",
   "execution_count": 18,
   "metadata": {
    "collapsed": false
   },
   "outputs": [
    {
     "name": "stdout",
     "output_type": "stream",
     "text": [
      "What are the best ways to lose weight?\n"
     ]
    }
   ],
   "source": [
    "question = df.loc[df.qid1 == 2559]\n",
    "print(question.iloc[1].question1)"
   ]
  },
  {
   "cell_type": "code",
   "execution_count": null,
   "metadata": {
    "collapsed": true
   },
   "outputs": [],
   "source": []
  }
 ],
 "metadata": {
  "kernelspec": {
   "display_name": "Python 3",
   "language": "python",
   "name": "python3"
  },
  "language_info": {
   "codemirror_mode": {
    "name": "ipython",
    "version": 3
   },
   "file_extension": ".py",
   "mimetype": "text/x-python",
   "name": "python",
   "nbconvert_exporter": "python",
   "pygments_lexer": "ipython3",
   "version": "3.5.2"
  }
 },
 "nbformat": 4,
 "nbformat_minor": 1
}
