{
 "cells": [
  {
   "cell_type": "code",
   "execution_count": 1,
   "metadata": {
    "collapsed": true
   },
   "outputs": [],
   "source": [
    "import pandas as pd\n",
    "import numpy as np\n",
    "import matplotlib.pyplot as plt"
   ]
  },
  {
   "cell_type": "code",
   "execution_count": 3,
   "metadata": {
    "collapsed": false
   },
   "outputs": [],
   "source": [
    "df = pd.read_csv('../data/train.csv')"
   ]
  },
  {
   "cell_type": "code",
   "execution_count": 4,
   "metadata": {
    "collapsed": false
   },
   "outputs": [
    {
     "name": "stdout",
     "output_type": "stream",
     "text": [
      "Number of row 404290, number of col 6\n",
      "Total number of Question        808580 \n",
      "Total number of Unique Question 537933\n"
     ]
    }
   ],
   "source": [
    "print('Number of row {}, number of col {}'.format(*df.shape))\n",
    "question_id1 = df['qid1'].values\n",
    "question_id2 = df['qid2'].values\n",
    "question_id = pd.DataFrame(np.concatenate((question_id1,question_id2),axis=0),columns = ['id'])\n",
    "print('Total number of Question        {} '.format(len(question_id)))\n",
    "print('Total number of Unique Question {}'.format(len(set(np.asarray(question_id['id'])))))"
   ]
  },
  {
   "cell_type": "code",
   "execution_count": 5,
   "metadata": {
    "collapsed": false
   },
   "outputs": [
    {
     "name": "stdout",
     "output_type": "stream",
     "text": [
      "Why do I not lose weight when I throw up?\n",
      "Question ID: 2559\n",
      "Number of Duplication: 157\n",
      "\n",
      "\n",
      "If I link my Instagram account to my Facebook account, will my friends from Facebook be able to see the photos I post even if my Instagram account is private?\n",
      "Question ID: 30782\n",
      "Number of Duplication: 120\n",
      "\n",
      "\n",
      "What are some ways to lose 25 pounds in one month?\n",
      "Question ID: 4044\n",
      "Number of Duplication: 111\n",
      "\n",
      "\n",
      "How can I make money online in India?\n",
      "Question ID: 2561\n",
      "Number of Duplication: 88\n",
      "\n",
      "\n",
      "How do I make money using Instagram?\n",
      "Question ID: 14376\n",
      "Number of Duplication: 79\n",
      "\n",
      "\n"
     ]
    }
   ],
   "source": [
    "num_of_dup_id = question_id['id'].value_counts()\n",
    "max_five_dup = num_of_dup_id.iloc[0:5]\n",
    "max_five_id = {}\n",
    "for index,value in enumerate(max_five_dup):\n",
    "    id_index = num_of_dup_id[num_of_dup_id == value].index[0]\n",
    "    question = df.loc[df.qid2 == id_index]\n",
    "    print(question.iloc[0].question1)\n",
    "    print(\"Question ID: {}\".format(id_index))\n",
    "    print(\"Number of Duplication: {}\".format(num_of_dup_id[id_index]))\n",
    "    print(\"\\n\")\n",
    "\n"
   ]
  },
  {
   "cell_type": "code",
   "execution_count": null,
   "metadata": {
    "collapsed": true
   },
   "outputs": [],
   "source": []
  }
 ],
 "metadata": {
  "kernelspec": {
   "display_name": "Python 3",
   "language": "python",
   "name": "python3"
  },
  "language_info": {
   "codemirror_mode": {
    "name": "ipython",
    "version": 3
   },
   "file_extension": ".py",
   "mimetype": "text/x-python",
   "name": "python",
   "nbconvert_exporter": "python",
   "pygments_lexer": "ipython3",
   "version": "3.5.2"
  }
 },
 "nbformat": 4,
 "nbformat_minor": 1
}
